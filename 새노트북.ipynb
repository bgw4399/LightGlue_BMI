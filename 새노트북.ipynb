{
 "cells": [
  {
   "cell_type": "code",
   "execution_count": 1,
   "id": "699ccc77-d3bf-450d-9635-1bfb92d244cd",
   "metadata": {
    "execution": {
     "iopub.execute_input": "2025-05-08T12:29:10.143036Z",
     "iopub.status.busy": "2025-05-08T12:29:10.142097Z",
     "iopub.status.idle": "2025-05-08T12:29:27.591056Z",
     "shell.execute_reply": "2025-05-08T12:29:27.588963Z",
     "shell.execute_reply.started": "2025-05-08T12:29:10.142949Z"
    }
   },
   "outputs": [
    {
     "data": {
      "text/plain": [
       "True"
      ]
     },
     "execution_count": 1,
     "metadata": {},
     "output_type": "execute_result"
    }
   ],
   "source": [
    "import torch\n",
    "torch.cuda.is_available() "
   ]
  },
  {
   "cell_type": "code",
   "execution_count": null,
   "id": "1a29fc3a-7ded-4cab-8b04-5c0473f5a9f6",
   "metadata": {},
   "outputs": [],
   "source": []
  }
 ],
 "metadata": {
  "kernelspec": {
   "display_name": "Python 3.8",
   "language": "python",
   "name": "python3"
  },
  "language_info": {
   "codemirror_mode": {
    "name": "ipython",
    "version": 3
   },
   "file_extension": ".py",
   "mimetype": "text/x-python",
   "name": "python",
   "nbconvert_exporter": "python",
   "pygments_lexer": "ipython3",
   "version": "3.8.16"
  }
 },
 "nbformat": 4,
 "nbformat_minor": 5
}
