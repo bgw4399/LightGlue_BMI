{
 "cells": [
  {
   "cell_type": "code",
   "execution_count": 1,
   "id": "bad84a4f-6910-41f2-b83f-ee6e703311ee",
   "metadata": {
    "execution": {
     "iopub.execute_input": "2025-01-16T01:00:38.161626Z",
     "iopub.status.busy": "2025-01-16T01:00:38.161001Z",
     "iopub.status.idle": "2025-01-16T01:01:00.742801Z",
     "shell.execute_reply": "2025-01-16T01:01:00.740816Z",
     "shell.execute_reply.started": "2025-01-16T01:00:38.161588Z"
    },
    "tags": []
   },
   "outputs": [
    {
     "ename": "ContextualVersionConflict",
     "evalue": "(triton 3.1.0 (/usr/gatoai/python/venv/3.8/lib/python3.8/site-packages), Requirement.parse('triton==2.2.0; platform_system == \"Linux\" and platform_machine == \"x86_64\" and python_version < \"3.12\"'), {'torch'})",
     "output_type": "error",
     "traceback": [
      "\u001b[0;31m---------------------------------------------------------------------------\u001b[0m",
      "\u001b[0;31mContextualVersionConflict\u001b[0m                 Traceback (most recent call last)",
      "Cell \u001b[0;32mIn[1], line 6\u001b[0m\n\u001b[1;32m      4\u001b[0m \u001b[38;5;28;01mimport\u001b[39;00m \u001b[38;5;21;01mmatplotlib\u001b[39;00m\u001b[38;5;21;01m.\u001b[39;00m\u001b[38;5;21;01mpyplot\u001b[39;00m \u001b[38;5;28;01mas\u001b[39;00m \u001b[38;5;21;01mplt\u001b[39;00m\n\u001b[1;32m      5\u001b[0m \u001b[38;5;28;01mimport\u001b[39;00m \u001b[38;5;21;01mpandas\u001b[39;00m \u001b[38;5;28;01mas\u001b[39;00m \u001b[38;5;21;01mpd\u001b[39;00m\n\u001b[0;32m----> 6\u001b[0m \u001b[38;5;28;01mimport\u001b[39;00m \u001b[38;5;21;01mslideflow\u001b[39;00m \u001b[38;5;28;01mas\u001b[39;00m \u001b[38;5;21;01msf\u001b[39;00m\n\u001b[1;32m      7\u001b[0m \u001b[38;5;28;01mfrom\u001b[39;00m \u001b[38;5;21;01mscipy\u001b[39;00m\u001b[38;5;21;01m.\u001b[39;00m\u001b[38;5;21;01mspatial\u001b[39;00m\u001b[38;5;21;01m.\u001b[39;00m\u001b[38;5;21;01mtransform\u001b[39;00m \u001b[38;5;28;01mimport\u001b[39;00m Rotation \u001b[38;5;28;01mas\u001b[39;00m R\n\u001b[1;32m      9\u001b[0m \u001b[38;5;28;01mdef\u001b[39;00m \u001b[38;5;21mcreate_project_from_jpg\u001b[39m(image_dir, root\u001b[38;5;241m=\u001b[39m\u001b[38;5;124m'\u001b[39m\u001b[38;5;124mdata\u001b[39m\u001b[38;5;124m'\u001b[39m):\n",
      "File \u001b[0;32m~/.local/lib/python3.8/site-packages/slideflow/__init__.py:43\u001b[0m\n\u001b[1;32m     41\u001b[0m \u001b[38;5;28;01mfrom\u001b[39;00m \u001b[38;5;21;01mslideflow\u001b[39;00m\u001b[38;5;21;01m.\u001b[39;00m\u001b[38;5;21;01mstats\u001b[39;00m \u001b[38;5;28;01mimport\u001b[39;00m SlideMap\n\u001b[1;32m     42\u001b[0m \u001b[38;5;28;01mfrom\u001b[39;00m \u001b[38;5;21;01mslideflow\u001b[39;00m\u001b[38;5;21;01m.\u001b[39;00m\u001b[38;5;21;01mtfrecord\u001b[39;00m \u001b[38;5;28;01mimport\u001b[39;00m TFRecord, tfrecord_loader, multi_tfrecord_loader\n\u001b[0;32m---> 43\u001b[0m \u001b[38;5;28;01mfrom\u001b[39;00m \u001b[38;5;21;01mslideflow\u001b[39;00m\u001b[38;5;21;01m.\u001b[39;00m\u001b[38;5;21;01mplugin\u001b[39;00m \u001b[38;5;28;01mimport\u001b[39;00m load_plugins\n",
      "File \u001b[0;32m~/.local/lib/python3.8/site-packages/slideflow/plugin.py:12\u001b[0m\n\u001b[1;32m      9\u001b[0m         register \u001b[38;5;241m=\u001b[39m entry_point\u001b[38;5;241m.\u001b[39mload()\n\u001b[1;32m     10\u001b[0m         register()\n\u001b[0;32m---> 12\u001b[0m \u001b[43mload_plugins\u001b[49m\u001b[43m(\u001b[49m\u001b[43m)\u001b[49m\n",
      "File \u001b[0;32m~/.local/lib/python3.8/site-packages/slideflow/plugin.py:9\u001b[0m, in \u001b[0;36mload_plugins\u001b[0;34m()\u001b[0m\n\u001b[1;32m      7\u001b[0m \u001b[38;5;28;01mdef\u001b[39;00m \u001b[38;5;21mload_plugins\u001b[39m():\n\u001b[1;32m      8\u001b[0m     \u001b[38;5;28;01mfor\u001b[39;00m entry_point \u001b[38;5;129;01min\u001b[39;00m pkg_resources\u001b[38;5;241m.\u001b[39miter_entry_points(\u001b[38;5;124m'\u001b[39m\u001b[38;5;124mslideflow.plugins\u001b[39m\u001b[38;5;124m'\u001b[39m):\n\u001b[0;32m----> 9\u001b[0m         register \u001b[38;5;241m=\u001b[39m \u001b[43mentry_point\u001b[49m\u001b[38;5;241;43m.\u001b[39;49m\u001b[43mload\u001b[49m\u001b[43m(\u001b[49m\u001b[43m)\u001b[49m\n\u001b[1;32m     10\u001b[0m         register()\n",
      "File \u001b[0;32m/opt/python/lib/python3.8/site-packages/pkg_resources/__init__.py:2780\u001b[0m, in \u001b[0;36mEntryPoint.load\u001b[0;34m(self, require, *args, **kwargs)\u001b[0m\n\u001b[1;32m   2771\u001b[0m     warnings\u001b[38;5;241m.\u001b[39mwarn(\n\u001b[1;32m   2772\u001b[0m         \u001b[38;5;124m\"\u001b[39m\u001b[38;5;124mParameters to load are deprecated.  Call .resolve and \u001b[39m\u001b[38;5;124m\"\u001b[39m\n\u001b[1;32m   2773\u001b[0m         \u001b[38;5;124m\"\u001b[39m\u001b[38;5;124m.require separately.\u001b[39m\u001b[38;5;124m\"\u001b[39m,\n\u001b[1;32m   2774\u001b[0m         PkgResourcesDeprecationWarning,\n\u001b[1;32m   2775\u001b[0m         stacklevel\u001b[38;5;241m=\u001b[39m\u001b[38;5;241m2\u001b[39m,\n\u001b[1;32m   2776\u001b[0m     )\n\u001b[1;32m   2777\u001b[0m \u001b[38;5;28;01mif\u001b[39;00m require:\n\u001b[1;32m   2778\u001b[0m     \u001b[38;5;66;03m# We could pass `env` and `installer` directly,\u001b[39;00m\n\u001b[1;32m   2779\u001b[0m     \u001b[38;5;66;03m# but keeping `*args` and `**kwargs` for backwards compatibility\u001b[39;00m\n\u001b[0;32m-> 2780\u001b[0m     \u001b[38;5;28;43mself\u001b[39;49m\u001b[38;5;241;43m.\u001b[39;49m\u001b[43mrequire\u001b[49m\u001b[43m(\u001b[49m\u001b[38;5;241;43m*\u001b[39;49m\u001b[43margs\u001b[49m\u001b[43m,\u001b[49m\u001b[43m \u001b[49m\u001b[38;5;241;43m*\u001b[39;49m\u001b[38;5;241;43m*\u001b[39;49m\u001b[43mkwargs\u001b[49m\u001b[43m)\u001b[49m  \u001b[38;5;66;03m# type: ignore\u001b[39;00m\n\u001b[1;32m   2781\u001b[0m \u001b[38;5;28;01mreturn\u001b[39;00m \u001b[38;5;28mself\u001b[39m\u001b[38;5;241m.\u001b[39mresolve()\n",
      "File \u001b[0;32m/opt/python/lib/python3.8/site-packages/pkg_resources/__init__.py:2808\u001b[0m, in \u001b[0;36mEntryPoint.require\u001b[0;34m(self, env, installer)\u001b[0m\n\u001b[1;32m   2802\u001b[0m \u001b[38;5;66;03m# Get the requirements for this entry point with all its extras and\u001b[39;00m\n\u001b[1;32m   2803\u001b[0m \u001b[38;5;66;03m# then resolve them. We have to pass `extras` along when resolving so\u001b[39;00m\n\u001b[1;32m   2804\u001b[0m \u001b[38;5;66;03m# that the working set knows what extras we want. Otherwise, for\u001b[39;00m\n\u001b[1;32m   2805\u001b[0m \u001b[38;5;66;03m# dist-info distributions, the working set will assume that the\u001b[39;00m\n\u001b[1;32m   2806\u001b[0m \u001b[38;5;66;03m# requirements for that extra are purely optional and skip over them.\u001b[39;00m\n\u001b[1;32m   2807\u001b[0m reqs \u001b[38;5;241m=\u001b[39m \u001b[38;5;28mself\u001b[39m\u001b[38;5;241m.\u001b[39mdist\u001b[38;5;241m.\u001b[39mrequires(\u001b[38;5;28mself\u001b[39m\u001b[38;5;241m.\u001b[39mextras)\n\u001b[0;32m-> 2808\u001b[0m items \u001b[38;5;241m=\u001b[39m \u001b[43mworking_set\u001b[49m\u001b[38;5;241;43m.\u001b[39;49m\u001b[43mresolve\u001b[49m\u001b[43m(\u001b[49m\u001b[43mreqs\u001b[49m\u001b[43m,\u001b[49m\u001b[43m \u001b[49m\u001b[43menv\u001b[49m\u001b[43m,\u001b[49m\u001b[43m \u001b[49m\u001b[43minstaller\u001b[49m\u001b[43m,\u001b[49m\u001b[43m \u001b[49m\u001b[43mextras\u001b[49m\u001b[38;5;241;43m=\u001b[39;49m\u001b[38;5;28;43mself\u001b[39;49m\u001b[38;5;241;43m.\u001b[39;49m\u001b[43mextras\u001b[49m\u001b[43m)\u001b[49m\n\u001b[1;32m   2809\u001b[0m \u001b[38;5;28mlist\u001b[39m(\u001b[38;5;28mmap\u001b[39m(working_set\u001b[38;5;241m.\u001b[39madd, items))\n",
      "File \u001b[0;32m/opt/python/lib/python3.8/site-packages/pkg_resources/__init__.py:897\u001b[0m, in \u001b[0;36mWorkingSet.resolve\u001b[0;34m(self, requirements, env, installer, replace_conflicting, extras)\u001b[0m\n\u001b[1;32m    894\u001b[0m \u001b[38;5;28;01mif\u001b[39;00m \u001b[38;5;129;01mnot\u001b[39;00m req_extras\u001b[38;5;241m.\u001b[39mmarkers_pass(req, extras):\n\u001b[1;32m    895\u001b[0m     \u001b[38;5;28;01mcontinue\u001b[39;00m\n\u001b[0;32m--> 897\u001b[0m dist \u001b[38;5;241m=\u001b[39m \u001b[38;5;28;43mself\u001b[39;49m\u001b[38;5;241;43m.\u001b[39;49m\u001b[43m_resolve_dist\u001b[49m\u001b[43m(\u001b[49m\n\u001b[1;32m    898\u001b[0m \u001b[43m    \u001b[49m\u001b[43mreq\u001b[49m\u001b[43m,\u001b[49m\u001b[43m \u001b[49m\u001b[43mbest\u001b[49m\u001b[43m,\u001b[49m\u001b[43m \u001b[49m\u001b[43mreplace_conflicting\u001b[49m\u001b[43m,\u001b[49m\u001b[43m \u001b[49m\u001b[43menv\u001b[49m\u001b[43m,\u001b[49m\u001b[43m \u001b[49m\u001b[43minstaller\u001b[49m\u001b[43m,\u001b[49m\u001b[43m \u001b[49m\u001b[43mrequired_by\u001b[49m\u001b[43m,\u001b[49m\u001b[43m \u001b[49m\u001b[43mto_activate\u001b[49m\n\u001b[1;32m    899\u001b[0m \u001b[43m\u001b[49m\u001b[43m)\u001b[49m\n\u001b[1;32m    901\u001b[0m \u001b[38;5;66;03m# push the new requirements onto the stack\u001b[39;00m\n\u001b[1;32m    902\u001b[0m new_requirements \u001b[38;5;241m=\u001b[39m dist\u001b[38;5;241m.\u001b[39mrequires(req\u001b[38;5;241m.\u001b[39mextras)[::\u001b[38;5;241m-\u001b[39m\u001b[38;5;241m1\u001b[39m]\n",
      "File \u001b[0;32m/opt/python/lib/python3.8/site-packages/pkg_resources/__init__.py:943\u001b[0m, in \u001b[0;36mWorkingSet._resolve_dist\u001b[0;34m(self, req, best, replace_conflicting, env, installer, required_by, to_activate)\u001b[0m\n\u001b[1;32m    940\u001b[0m \u001b[38;5;28;01mif\u001b[39;00m dist \u001b[38;5;129;01mnot\u001b[39;00m \u001b[38;5;129;01min\u001b[39;00m req:\n\u001b[1;32m    941\u001b[0m     \u001b[38;5;66;03m# Oops, the \"best\" so far conflicts with a dependency\u001b[39;00m\n\u001b[1;32m    942\u001b[0m     dependent_req \u001b[38;5;241m=\u001b[39m required_by[req]\n\u001b[0;32m--> 943\u001b[0m     \u001b[38;5;28;01mraise\u001b[39;00m VersionConflict(dist, req)\u001b[38;5;241m.\u001b[39mwith_context(dependent_req)\n\u001b[1;32m    944\u001b[0m \u001b[38;5;28;01mreturn\u001b[39;00m dist\n",
      "\u001b[0;31mContextualVersionConflict\u001b[0m: (triton 3.1.0 (/usr/gatoai/python/venv/3.8/lib/python3.8/site-packages), Requirement.parse('triton==2.2.0; platform_system == \"Linux\" and platform_machine == \"x86_64\" and python_version < \"3.12\"'), {'torch'})"
     ]
    }
   ],
   "source": [
    "import os\n",
    "import numpy as np\n",
    "import cv2\n",
    "import matplotlib.pyplot as plt\n",
    "import pandas as pd\n",
    "import slideflow as sf\n",
    "from scipy.spatial.transform import Rotation as R\n",
    "\n",
    "def create_project_from_jpg(image_dir, root='data'):\n",
    "    original_root = root\n",
    "    index = 1\n",
    "    while os.path.exists(root):\n",
    "        root = f\"{original_root}_{index}\"\n",
    "        index += 1\n",
    "\n",
    "    os.makedirs(root)\n",
    "\n",
    "    project = sf.create_project(\n",
    "        root=root,\n",
    "        slides=image_dir,  # JPEG 이미지 경로 사용\n",
    "    )\n",
    "    return project\n",
    "\n",
    "def extract_tiles(project, tile_px=299, tile_um=302):\n",
    "    project.extract_tiles(\n",
    "        tile_px=tile_px,\n",
    "        tile_um=tile_um,\n",
    "        save_tiles=True,  # 타일 저장 활성화\n",
    "        img_format='jpg'  # 'png'도 가능\n",
    "    )\n",
    "\n",
    "def lo_ransac_filter(matches, keypoints1, keypoints2):\n",
    "    src_pts = np.float32([keypoints1[m[0]] for m in matches])\n",
    "    dst_pts = np.float32([keypoints2[m[1]] for m in matches])\n",
    "\n",
    "    model, inliers = cv2.estimateAffinePartial2D(\n",
    "        src_pts, dst_pts, method=cv2.RANSAC, ransacReprojThreshold=5.0\n",
    "    )\n",
    "    return src_pts[inliers.ravel() == 1], dst_pts[inliers.ravel() == 1], model\n",
    "\n",
    "def kabsch_algorithm(src_pts, dst_pts):\n",
    "    centroid_src = np.mean(src_pts, axis=0)\n",
    "    centroid_dst = np.mean(dst_pts, axis=0)\n",
    "\n",
    "    src_centered = src_pts - centroid_src\n",
    "    dst_centered = dst_pts - centroid_dst\n",
    "\n",
    "    H = np.dot(src_centered.T, dst_centered)\n",
    "    U, S, Vt = np.linalg.svd(H)\n",
    "    R = np.dot(Vt.T, U.T)\n",
    "\n",
    "    if np.linalg.det(R) < 0:\n",
    "        Vt[-1, :] *= -1\n",
    "        R = np.dot(Vt.T, U.T)\n",
    "\n",
    "    t = centroid_dst - np.dot(R, centroid_src)\n",
    "    return R, t\n",
    "\n",
    "def match_tiles_with_keypoints(he_tiles, ki67_tiles, keypoints_he, keypoints_ki67, matches):\n",
    "    matched_tiles = []\n",
    "\n",
    "    for he_idx, he_tile in enumerate(he_tiles):\n",
    "        best_match = None\n",
    "        best_score = float('inf')\n",
    "        best_R, best_t = None, None\n",
    "\n",
    "        for ki_idx, ki67_tile in enumerate(ki67_tiles):\n",
    "            matched_idx = matches[(matches['keypoint_idx_img0'] == he_idx) & \n",
    "                                  (matches['keypoint_idx_img1'] == ki_idx)]\n",
    "            if matched_idx.empty:\n",
    "                continue\n",
    "\n",
    "            src_pts, dst_pts, _ = lo_ransac_filter(\n",
    "                matched_idx.to_numpy(), keypoints_he, keypoints_ki67\n",
    "            )\n",
    "            if len(src_pts) < 4:\n",
    "                continue\n",
    "\n",
    "            R, t = kabsch_algorithm(src_pts, dst_pts)\n",
    "            error = np.mean(np.linalg.norm(np.dot(R, src_pts.T).T + t - dst_pts, axis=1))\n",
    "\n",
    "            if error < best_score:\n",
    "                best_match = (he_tile, ki67_tile)\n",
    "                best_score = error\n",
    "                best_R, best_t = R, t\n",
    "\n",
    "        if best_match:\n",
    "            matched_tiles.append((he_tile, best_match[1], best_R, best_t, best_score))\n",
    "\n",
    "    return matched_tiles\n",
    "\n",
    "def visualize_matched_tiles(matched_tiles, num_pairs=5):\n",
    "    if len(matched_tiles) == 0:\n",
    "        print(\"No matched tiles to visualize.\")\n",
    "        return\n",
    "\n",
    "    num_pairs = min(num_pairs, len(matched_tiles))\n",
    "    fig, axes = plt.subplots(num_pairs, 2, figsize=(10, 5 * num_pairs))\n",
    "\n",
    "    if num_pairs == 1:\n",
    "        axes = [axes]\n",
    "\n",
    "    for i in range(num_pairs):\n",
    "        he_tile, ki67_tile, _, _, score = matched_tiles[i]\n",
    "\n",
    "        axes[i][0].imshow(he_tile)\n",
    "        axes[i][0].set_title(f'H&E Tile (Score: {score:.4f}')\n",
    "        axes[i][0].axis('off')\n",
    "\n",
    "        axes[i][1].imshow(ki67_tile)\n",
    "        axes[i][1].set_title(f'KI-67 Tile')\n",
    "        axes[i][1].axis('off')\n",
    "\n",
    "    plt.tight_layout()\n",
    "    plt.show()\n",
    "\n",
    "def tile_matching_pipeline(keypoints_he_path, keypoints_ki67_path, matches_path, image_dir, root='./project/data'):\n",
    "    print(\"[1/4] SlideFlow 프로젝트 생성 중...\")\n",
    "    project = create_project_from_jpg(image_dir, root=root)\n",
    "\n",
    "    print(\"[2/4] 타일링 진행...\")\n",
    "    try:\n",
    "        extract_tiles(project, tile_px=299, tile_um=302)\n",
    "    except Exception as e:\n",
    "        print(\"Error during tile extraction:\", e)\n",
    "        return\n",
    "\n",
    "    print(\"[3/4] 키포인트 및 매칭 정보 로드...\")\n",
    "    keypoints_he = np.load(keypoints_he_path, allow_pickle=True)\n",
    "    keypoints_ki67 = np.load(keypoints_ki67_path, allow_pickle=True)\n",
    "    matches = pd.read_csv(matches_path)\n",
    "\n",
    "    print(\"[4/4] 타일 매칭 수행...\")\n",
    "    matched_tiles = match_tiles_with_keypoints([], [], keypoints_he, keypoints_ki67, matches)\n",
    "\n",
    "    print(\"매칭 완료. 시각화 시작...\")\n",
    "    visualize_matched_tiles(matched_tiles)\n",
    "\n",
    "keypoints_he_path = '/home/20223176/LightGlue/match/keypoints_37-HE_6-ki67_0.npy'\n",
    "keypoints_ki67_path = '/home/20223176/LightGlue/match/keypoints_37-HE_6-ki67_1.npy'\n",
    "matches_path = '/home/20223176/LightGlue/match/matches_scores_37-HE_6-ki67.csv'\n",
    "image_dir = './images/'\n",
    "\n",
    "tile_matching_pipeline(keypoints_he_path, keypoints_ki67_path, matches_path, image_dir)\n",
    "\n",
    "\n"
   ]
  },
  {
   "cell_type": "code",
   "execution_count": null,
   "id": "340aa818-d13c-4d44-8738-33951fef8467",
   "metadata": {},
   "outputs": [],
   "source": [
    "from lightglue import LightGlue, SuperPoint, DISK\n",
    "from lightglue.utils import load_image, rbd\n",
    "from lightglue import viz2d\n",
    "\n",
    "import torch\n",
    "\n",
    "torch.set_grad_enabled(False)\n",
    "from pathlib import Path\n",
    "\n",
    "import pandas as pd\n",
    "import os\n",
    "device = torch.device(\"cuda\" if torch.cuda.is_available() else \"cpu\")  # 'mps', 'cpu'\n",
    "\n",
    "extractor = SuperPoint(max_num_keypoints=1024).eval().to(device)  # load the extractor\n",
    "matcher = LightGlue(features=\"superpoint\").eval().to(device)\n",
    "feats0 = extractor.extract(image0.to(device))\n",
    "feats1 = extractor.extract(image1.to(device))\n",
    "matches01 = matcher({\"image0\": feats0, \"image1\": feats1})\n",
    "feats0, feats1, matches01 = [\n",
    "    rbd(x) for x in [feats0, feats1, matches01]\n",
    "]  # remove batch dimension\n",
    "\n",
    "kpts0, kpts1, matches = feats0[\"keypoints\"], feats1[\"keypoints\"], matches01[\"matches\"]\n",
    "m_kpts0, m_kpts1 = kpts0[matches[..., 0]], kpts1[matches[..., 1]]"
   ]
  },
  {
   "cell_type": "code",
   "execution_count": 4,
   "id": "6c4835e9-f190-4b7d-b134-607b5763bc5e",
   "metadata": {
    "execution": {
     "iopub.execute_input": "2025-01-16T01:13:57.482274Z",
     "iopub.status.busy": "2025-01-16T01:13:57.481792Z",
     "iopub.status.idle": "2025-01-16T01:13:57.615698Z",
     "shell.execute_reply": "2025-01-16T01:13:57.614133Z",
     "shell.execute_reply.started": "2025-01-16T01:13:57.482236Z"
    },
    "tags": []
   },
   "outputs": [
    {
     "ename": "ContextualVersionConflict",
     "evalue": "(triton 3.1.0 (/usr/gatoai/python/venv/3.8/lib/python3.8/site-packages), Requirement.parse('triton==2.2.0; platform_system == \"Linux\" and platform_machine == \"x86_64\" and python_version < \"3.12\"'), {'torch'})",
     "output_type": "error",
     "traceback": [
      "\u001b[0;31m---------------------------------------------------------------------------\u001b[0m",
      "\u001b[0;31mContextualVersionConflict\u001b[0m                 Traceback (most recent call last)",
      "Cell \u001b[0;32mIn[4], line 1\u001b[0m\n\u001b[0;32m----> 1\u001b[0m \u001b[38;5;28;01mimport\u001b[39;00m \u001b[38;5;21;01mslideflow\u001b[39;00m \u001b[38;5;28;01mas\u001b[39;00m \u001b[38;5;21;01msf\u001b[39;00m\n",
      "File \u001b[0;32m~/.local/lib/python3.8/site-packages/slideflow/__init__.py:43\u001b[0m\n\u001b[1;32m     41\u001b[0m \u001b[38;5;28;01mfrom\u001b[39;00m \u001b[38;5;21;01mslideflow\u001b[39;00m\u001b[38;5;21;01m.\u001b[39;00m\u001b[38;5;21;01mstats\u001b[39;00m \u001b[38;5;28;01mimport\u001b[39;00m SlideMap\n\u001b[1;32m     42\u001b[0m \u001b[38;5;28;01mfrom\u001b[39;00m \u001b[38;5;21;01mslideflow\u001b[39;00m\u001b[38;5;21;01m.\u001b[39;00m\u001b[38;5;21;01mtfrecord\u001b[39;00m \u001b[38;5;28;01mimport\u001b[39;00m TFRecord, tfrecord_loader, multi_tfrecord_loader\n\u001b[0;32m---> 43\u001b[0m \u001b[38;5;28;01mfrom\u001b[39;00m \u001b[38;5;21;01mslideflow\u001b[39;00m\u001b[38;5;21;01m.\u001b[39;00m\u001b[38;5;21;01mplugin\u001b[39;00m \u001b[38;5;28;01mimport\u001b[39;00m load_plugins\n",
      "File \u001b[0;32m~/.local/lib/python3.8/site-packages/slideflow/plugin.py:12\u001b[0m\n\u001b[1;32m      9\u001b[0m         register \u001b[38;5;241m=\u001b[39m entry_point\u001b[38;5;241m.\u001b[39mload()\n\u001b[1;32m     10\u001b[0m         register()\n\u001b[0;32m---> 12\u001b[0m \u001b[43mload_plugins\u001b[49m\u001b[43m(\u001b[49m\u001b[43m)\u001b[49m\n",
      "File \u001b[0;32m~/.local/lib/python3.8/site-packages/slideflow/plugin.py:9\u001b[0m, in \u001b[0;36mload_plugins\u001b[0;34m()\u001b[0m\n\u001b[1;32m      7\u001b[0m \u001b[38;5;28;01mdef\u001b[39;00m \u001b[38;5;21mload_plugins\u001b[39m():\n\u001b[1;32m      8\u001b[0m     \u001b[38;5;28;01mfor\u001b[39;00m entry_point \u001b[38;5;129;01min\u001b[39;00m pkg_resources\u001b[38;5;241m.\u001b[39miter_entry_points(\u001b[38;5;124m'\u001b[39m\u001b[38;5;124mslideflow.plugins\u001b[39m\u001b[38;5;124m'\u001b[39m):\n\u001b[0;32m----> 9\u001b[0m         register \u001b[38;5;241m=\u001b[39m \u001b[43mentry_point\u001b[49m\u001b[38;5;241;43m.\u001b[39;49m\u001b[43mload\u001b[49m\u001b[43m(\u001b[49m\u001b[43m)\u001b[49m\n\u001b[1;32m     10\u001b[0m         register()\n",
      "File \u001b[0;32m/opt/python/lib/python3.8/site-packages/pkg_resources/__init__.py:2780\u001b[0m, in \u001b[0;36mEntryPoint.load\u001b[0;34m(self, require, *args, **kwargs)\u001b[0m\n\u001b[1;32m   2771\u001b[0m     warnings\u001b[38;5;241m.\u001b[39mwarn(\n\u001b[1;32m   2772\u001b[0m         \u001b[38;5;124m\"\u001b[39m\u001b[38;5;124mParameters to load are deprecated.  Call .resolve and \u001b[39m\u001b[38;5;124m\"\u001b[39m\n\u001b[1;32m   2773\u001b[0m         \u001b[38;5;124m\"\u001b[39m\u001b[38;5;124m.require separately.\u001b[39m\u001b[38;5;124m\"\u001b[39m,\n\u001b[1;32m   2774\u001b[0m         PkgResourcesDeprecationWarning,\n\u001b[1;32m   2775\u001b[0m         stacklevel\u001b[38;5;241m=\u001b[39m\u001b[38;5;241m2\u001b[39m,\n\u001b[1;32m   2776\u001b[0m     )\n\u001b[1;32m   2777\u001b[0m \u001b[38;5;28;01mif\u001b[39;00m require:\n\u001b[1;32m   2778\u001b[0m     \u001b[38;5;66;03m# We could pass `env` and `installer` directly,\u001b[39;00m\n\u001b[1;32m   2779\u001b[0m     \u001b[38;5;66;03m# but keeping `*args` and `**kwargs` for backwards compatibility\u001b[39;00m\n\u001b[0;32m-> 2780\u001b[0m     \u001b[38;5;28;43mself\u001b[39;49m\u001b[38;5;241;43m.\u001b[39;49m\u001b[43mrequire\u001b[49m\u001b[43m(\u001b[49m\u001b[38;5;241;43m*\u001b[39;49m\u001b[43margs\u001b[49m\u001b[43m,\u001b[49m\u001b[43m \u001b[49m\u001b[38;5;241;43m*\u001b[39;49m\u001b[38;5;241;43m*\u001b[39;49m\u001b[43mkwargs\u001b[49m\u001b[43m)\u001b[49m  \u001b[38;5;66;03m# type: ignore\u001b[39;00m\n\u001b[1;32m   2781\u001b[0m \u001b[38;5;28;01mreturn\u001b[39;00m \u001b[38;5;28mself\u001b[39m\u001b[38;5;241m.\u001b[39mresolve()\n",
      "File \u001b[0;32m/opt/python/lib/python3.8/site-packages/pkg_resources/__init__.py:2808\u001b[0m, in \u001b[0;36mEntryPoint.require\u001b[0;34m(self, env, installer)\u001b[0m\n\u001b[1;32m   2802\u001b[0m \u001b[38;5;66;03m# Get the requirements for this entry point with all its extras and\u001b[39;00m\n\u001b[1;32m   2803\u001b[0m \u001b[38;5;66;03m# then resolve them. We have to pass `extras` along when resolving so\u001b[39;00m\n\u001b[1;32m   2804\u001b[0m \u001b[38;5;66;03m# that the working set knows what extras we want. Otherwise, for\u001b[39;00m\n\u001b[1;32m   2805\u001b[0m \u001b[38;5;66;03m# dist-info distributions, the working set will assume that the\u001b[39;00m\n\u001b[1;32m   2806\u001b[0m \u001b[38;5;66;03m# requirements for that extra are purely optional and skip over them.\u001b[39;00m\n\u001b[1;32m   2807\u001b[0m reqs \u001b[38;5;241m=\u001b[39m \u001b[38;5;28mself\u001b[39m\u001b[38;5;241m.\u001b[39mdist\u001b[38;5;241m.\u001b[39mrequires(\u001b[38;5;28mself\u001b[39m\u001b[38;5;241m.\u001b[39mextras)\n\u001b[0;32m-> 2808\u001b[0m items \u001b[38;5;241m=\u001b[39m \u001b[43mworking_set\u001b[49m\u001b[38;5;241;43m.\u001b[39;49m\u001b[43mresolve\u001b[49m\u001b[43m(\u001b[49m\u001b[43mreqs\u001b[49m\u001b[43m,\u001b[49m\u001b[43m \u001b[49m\u001b[43menv\u001b[49m\u001b[43m,\u001b[49m\u001b[43m \u001b[49m\u001b[43minstaller\u001b[49m\u001b[43m,\u001b[49m\u001b[43m \u001b[49m\u001b[43mextras\u001b[49m\u001b[38;5;241;43m=\u001b[39;49m\u001b[38;5;28;43mself\u001b[39;49m\u001b[38;5;241;43m.\u001b[39;49m\u001b[43mextras\u001b[49m\u001b[43m)\u001b[49m\n\u001b[1;32m   2809\u001b[0m \u001b[38;5;28mlist\u001b[39m(\u001b[38;5;28mmap\u001b[39m(working_set\u001b[38;5;241m.\u001b[39madd, items))\n",
      "File \u001b[0;32m/opt/python/lib/python3.8/site-packages/pkg_resources/__init__.py:897\u001b[0m, in \u001b[0;36mWorkingSet.resolve\u001b[0;34m(self, requirements, env, installer, replace_conflicting, extras)\u001b[0m\n\u001b[1;32m    894\u001b[0m \u001b[38;5;28;01mif\u001b[39;00m \u001b[38;5;129;01mnot\u001b[39;00m req_extras\u001b[38;5;241m.\u001b[39mmarkers_pass(req, extras):\n\u001b[1;32m    895\u001b[0m     \u001b[38;5;28;01mcontinue\u001b[39;00m\n\u001b[0;32m--> 897\u001b[0m dist \u001b[38;5;241m=\u001b[39m \u001b[38;5;28;43mself\u001b[39;49m\u001b[38;5;241;43m.\u001b[39;49m\u001b[43m_resolve_dist\u001b[49m\u001b[43m(\u001b[49m\n\u001b[1;32m    898\u001b[0m \u001b[43m    \u001b[49m\u001b[43mreq\u001b[49m\u001b[43m,\u001b[49m\u001b[43m \u001b[49m\u001b[43mbest\u001b[49m\u001b[43m,\u001b[49m\u001b[43m \u001b[49m\u001b[43mreplace_conflicting\u001b[49m\u001b[43m,\u001b[49m\u001b[43m \u001b[49m\u001b[43menv\u001b[49m\u001b[43m,\u001b[49m\u001b[43m \u001b[49m\u001b[43minstaller\u001b[49m\u001b[43m,\u001b[49m\u001b[43m \u001b[49m\u001b[43mrequired_by\u001b[49m\u001b[43m,\u001b[49m\u001b[43m \u001b[49m\u001b[43mto_activate\u001b[49m\n\u001b[1;32m    899\u001b[0m \u001b[43m\u001b[49m\u001b[43m)\u001b[49m\n\u001b[1;32m    901\u001b[0m \u001b[38;5;66;03m# push the new requirements onto the stack\u001b[39;00m\n\u001b[1;32m    902\u001b[0m new_requirements \u001b[38;5;241m=\u001b[39m dist\u001b[38;5;241m.\u001b[39mrequires(req\u001b[38;5;241m.\u001b[39mextras)[::\u001b[38;5;241m-\u001b[39m\u001b[38;5;241m1\u001b[39m]\n",
      "File \u001b[0;32m/opt/python/lib/python3.8/site-packages/pkg_resources/__init__.py:943\u001b[0m, in \u001b[0;36mWorkingSet._resolve_dist\u001b[0;34m(self, req, best, replace_conflicting, env, installer, required_by, to_activate)\u001b[0m\n\u001b[1;32m    940\u001b[0m \u001b[38;5;28;01mif\u001b[39;00m dist \u001b[38;5;129;01mnot\u001b[39;00m \u001b[38;5;129;01min\u001b[39;00m req:\n\u001b[1;32m    941\u001b[0m     \u001b[38;5;66;03m# Oops, the \"best\" so far conflicts with a dependency\u001b[39;00m\n\u001b[1;32m    942\u001b[0m     dependent_req \u001b[38;5;241m=\u001b[39m required_by[req]\n\u001b[0;32m--> 943\u001b[0m     \u001b[38;5;28;01mraise\u001b[39;00m VersionConflict(dist, req)\u001b[38;5;241m.\u001b[39mwith_context(dependent_req)\n\u001b[1;32m    944\u001b[0m \u001b[38;5;28;01mreturn\u001b[39;00m dist\n",
      "\u001b[0;31mContextualVersionConflict\u001b[0m: (triton 3.1.0 (/usr/gatoai/python/venv/3.8/lib/python3.8/site-packages), Requirement.parse('triton==2.2.0; platform_system == \"Linux\" and platform_machine == \"x86_64\" and python_version < \"3.12\"'), {'torch'})"
     ]
    }
   ],
   "source": [
    "import slideflow as sf"
   ]
  },
  {
   "cell_type": "code",
   "execution_count": 8,
   "id": "5a8e94a5-c523-457a-ba3f-9b72dedf4c92",
   "metadata": {
    "execution": {
     "iopub.execute_input": "2025-01-09T02:00:34.032332Z",
     "iopub.status.busy": "2025-01-09T02:00:34.031716Z",
     "iopub.status.idle": "2025-01-09T02:00:34.437339Z",
     "shell.execute_reply": "2025-01-09T02:00:34.436287Z",
     "shell.execute_reply.started": "2025-01-09T02:00:34.032291Z"
    }
   },
   "outputs": [
    {
     "name": "stdout",
     "output_type": "stream",
     "text": [
      "Updated TIFF saved to ./tiff_images/original_6-ki67_fixed.tiff\n"
     ]
    }
   ],
   "source": [
    "\n",
    "ContextualVersionConflict: (triton 3.1.0 (/usr/gatoai/python/venv/3.8/lib/python3.8/site-packages), Requirement.parse('triton==2.2.0; platform_system == \"Linux\" and platform_machine == \"x86_64\" and python_version < \"3.12\"'), {'torch'})from tifffile import TiffFile, TiffWriter\n",
    "\n",
    "# 원본 TIFF 파일 경로\n",
    "input_tiff = \"./tiff_images/original_6-ki67.tiff\"\n",
    "\n",
    "# 수정된 TIFF 파일 경로\n",
    "output_tiff = \"./tiff_images/original_6-ki67_fixed.tiff\"\n",
    "\n",
    "# 픽셀당 마이크론 값 (예: 0.25 microns per pixel)\n",
    "microns_per_pixel = 0.25\n",
    "\n",
    "# Resolution 계산\n",
    "x_resolution = 25400 / microns_per_pixel\n",
    "y_resolution = 25400 / microns_per_pixel\n",
    "\n",
    "# TIFF 수정\n",
    "with TiffFile(input_tiff) as tif:\n",
    "    image = tif.pages[0].asarray()  # 이미지 데이터 읽기\n",
    "\n",
    "with TiffWriter(output_tiff, bigtiff=True) as tif:\n",
    "    tif.write(\n",
    "        image,\n",
    "        resolution=(x_resolution, y_resolution),\n",
    "        resolutionunit=\"CENTIMETER\"\n",
    "    )\n",
    "\n",
    "print(f\"Updated TIFF saved to {output_tiff}\")\n"
   ]
  },
  {
   "cell_type": "code",
   "execution_count": null,
   "id": "f2b7e4ba-f3a5-4181-bab8-ab386f8ced39",
   "metadata": {},
   "outputs": [],
   "source": []
  },
  {
   "cell_type": "code",
   "execution_count": 10,
   "id": "d3c7bd64-d2e1-4e32-863e-33bc670625b4",
   "metadata": {
    "execution": {
     "iopub.execute_input": "2025-01-09T02:01:21.570088Z",
     "iopub.status.busy": "2025-01-09T02:01:21.569493Z",
     "iopub.status.idle": "2025-01-09T02:01:22.575759Z",
     "shell.execute_reply": "2025-01-09T02:01:22.574812Z",
     "shell.execute_reply.started": "2025-01-09T02:01:21.570050Z"
    },
    "tags": []
   },
   "outputs": [
    {
     "data": {
      "text/html": [
       "<pre style=\"white-space:pre;overflow-x:auto;line-height:normal;font-family:Menlo,'DejaVu Sans Mono',consolas,'Courier New',monospace\"><span style=\"color: #7fbfbf; text-decoration-color: #7fbfbf\">[11:01:21] </span><span style=\"color: #000080; text-decoration-color: #000080\">INFO    </span> Setting up project at data4                                                                    \n",
       "</pre>\n"
      ],
      "text/plain": [
       "\u001b[2;36m[11:01:21]\u001b[0m\u001b[2;36m \u001b[0m\u001b[34mINFO    \u001b[0m Setting up project at data4                                                                    \n"
      ]
     },
     "metadata": {},
     "output_type": "display_data"
    },
    {
     "data": {
      "text/html": [
       "<pre style=\"white-space:pre;overflow-x:auto;line-height:normal;font-family:Menlo,'DejaVu Sans Mono',consolas,'Courier New',monospace\"><span style=\"color: #7fbfbf; text-decoration-color: #7fbfbf\">           </span><span style=\"color: #000080; text-decoration-color: #000080\">INFO    </span> Creating project at data4...                                                                   \n",
       "</pre>\n"
      ],
      "text/plain": [
       "\u001b[2;36m          \u001b[0m\u001b[2;36m \u001b[0m\u001b[34mINFO    \u001b[0m Creating project at data4...                                                                   \n"
      ]
     },
     "metadata": {},
     "output_type": "display_data"
    },
    {
     "data": {
      "text/html": [
       "<pre style=\"white-space:pre;overflow-x:auto;line-height:normal;font-family:Menlo,'DejaVu Sans Mono',consolas,'Courier New',monospace\"><span style=\"color: #7fbfbf; text-decoration-color: #7fbfbf\">           </span><span style=\"color: #000080; text-decoration-color: #000080\">INFO    </span> Saved dataset source MyProject to data4/datasets.json                                          \n",
       "</pre>\n"
      ],
      "text/plain": [
       "\u001b[2;36m          \u001b[0m\u001b[2;36m \u001b[0m\u001b[34mINFO    \u001b[0m Saved dataset source MyProject to data4/datasets.json                                          \n"
      ]
     },
     "metadata": {},
     "output_type": "display_data"
    },
    {
     "data": {
      "text/html": [
       "<pre style=\"white-space:pre;overflow-x:auto;line-height:normal;font-family:Menlo,'DejaVu Sans Mono',consolas,'Courier New',monospace\"><span style=\"color: #7fbfbf; text-decoration-color: #7fbfbf\">           </span><span style=\"color: #000080; text-decoration-color: #000080\">INFO    </span> Wrote annotations file to <span style=\"color: #008000; text-decoration-color: #008000\">data4/annotations.csv</span>                                                \n",
       "</pre>\n"
      ],
      "text/plain": [
       "\u001b[2;36m          \u001b[0m\u001b[2;36m \u001b[0m\u001b[34mINFO    \u001b[0m Wrote annotations file to \u001b[32mdata4/annotations.csv\u001b[0m                                                \n"
      ]
     },
     "metadata": {},
     "output_type": "display_data"
    },
    {
     "data": {
      "text/html": [
       "<pre style=\"white-space:pre;overflow-x:auto;line-height:normal;font-family:Menlo,'DejaVu Sans Mono',consolas,'Courier New',monospace\"><span style=\"color: #7fbfbf; text-decoration-color: #7fbfbf\">           </span><span style=\"color: #000080; text-decoration-color: #000080\">INFO    </span> Column 'slide' missing in annotations.                                                         \n",
       "</pre>\n"
      ],
      "text/plain": [
       "\u001b[2;36m          \u001b[0m\u001b[2;36m \u001b[0m\u001b[34mINFO    \u001b[0m Column 'slide' missing in annotations.                                                         \n"
      ]
     },
     "metadata": {},
     "output_type": "display_data"
    },
    {
     "data": {
      "text/html": [
       "<pre style=\"white-space:pre;overflow-x:auto;line-height:normal;font-family:Menlo,'DejaVu Sans Mono',consolas,'Courier New',monospace\"><span style=\"color: #7fbfbf; text-decoration-color: #7fbfbf\">           </span><span style=\"color: #000080; text-decoration-color: #000080\">INFO    </span> Attempting to associate patients with slides...                                                \n",
       "</pre>\n"
      ],
      "text/plain": [
       "\u001b[2;36m          \u001b[0m\u001b[2;36m \u001b[0m\u001b[34mINFO    \u001b[0m Attempting to associate patients with slides...                                                \n"
      ]
     },
     "metadata": {},
     "output_type": "display_data"
    },
    {
     "data": {
      "text/html": [
       "<pre style=\"white-space:pre;overflow-x:auto;line-height:normal;font-family:Menlo,'DejaVu Sans Mono',consolas,'Courier New',monospace\"><span style=\"color: #7fbfbf; text-decoration-color: #7fbfbf\">           </span><span style=\"color: #000080; text-decoration-color: #000080\">INFO    </span> Done; associated slides with 3 annotations.                                                    \n",
       "</pre>\n"
      ],
      "text/plain": [
       "\u001b[2;36m          \u001b[0m\u001b[2;36m \u001b[0m\u001b[34mINFO    \u001b[0m Done; associated slides with 3 annotations.                                                    \n"
      ]
     },
     "metadata": {},
     "output_type": "display_data"
    },
    {
     "data": {
      "text/html": [
       "<pre style=\"white-space:pre;overflow-x:auto;line-height:normal;font-family:Menlo,'DejaVu Sans Mono',consolas,'Courier New',monospace\"><span style=\"color: #7fbfbf; text-decoration-color: #7fbfbf\">           </span><span style=\"color: #000080; text-decoration-color: #000080\">INFO    </span> Slide reading backend: <span style=\"color: #008080; text-decoration-color: #008080\">libvips</span>                                                                 \n",
       "</pre>\n"
      ],
      "text/plain": [
       "\u001b[2;36m          \u001b[0m\u001b[2;36m \u001b[0m\u001b[34mINFO    \u001b[0m Slide reading backend: \u001b[36mlibvips\u001b[0m                                                                 \n"
      ]
     },
     "metadata": {},
     "output_type": "display_data"
    },
    {
     "data": {
      "text/html": [
       "<pre style=\"white-space:pre;overflow-x:auto;line-height:normal;font-family:Menlo,'DejaVu Sans Mono',consolas,'Courier New',monospace\"><span style=\"color: #7fbfbf; text-decoration-color: #7fbfbf\">           </span><span style=\"color: #000080; text-decoration-color: #000080\">INFO    </span> Filtering tiles by grayspace fraction                                                          \n",
       "</pre>\n"
      ],
      "text/plain": [
       "\u001b[2;36m          \u001b[0m\u001b[2;36m \u001b[0m\u001b[34mINFO    \u001b[0m Filtering tiles by grayspace fraction                                                          \n"
      ]
     },
     "metadata": {},
     "output_type": "display_data"
    },
    {
     "data": {
      "text/html": [
       "<pre style=\"white-space:pre;overflow-x:auto;line-height:normal;font-family:Menlo,'DejaVu Sans Mono',consolas,'Courier New',monospace\"><span style=\"color: #7fbfbf; text-decoration-color: #7fbfbf\">           </span><span style=\"color: #000080; text-decoration-color: #000080\">INFO    </span> Working on dataset source <span style=\"font-weight: bold\">MyProject</span>...                                                         \n",
       "</pre>\n"
      ],
      "text/plain": [
       "\u001b[2;36m          \u001b[0m\u001b[2;36m \u001b[0m\u001b[34mINFO    \u001b[0m Working on dataset source \u001b[1mMyProject\u001b[0m...                                                         \n"
      ]
     },
     "metadata": {},
     "output_type": "display_data"
    },
    {
     "data": {
      "application/vnd.jupyter.widget-view+json": {
       "model_id": "",
       "version_major": 2,
       "version_minor": 0
      },
      "text/plain": [
       "Output()"
      ]
     },
     "metadata": {},
     "output_type": "display_data"
    },
    {
     "data": {
      "text/html": [
       "<pre style=\"white-space:pre;overflow-x:auto;line-height:normal;font-family:Menlo,'DejaVu Sans Mono',consolas,'Courier New',monospace\"></pre>\n"
      ],
      "text/plain": []
     },
     "metadata": {},
     "output_type": "display_data"
    },
    {
     "data": {
      "text/html": [
       "<pre style=\"white-space:pre;overflow-x:auto;line-height:normal;font-family:Menlo,'DejaVu Sans Mono',consolas,'Courier New',monospace\"><span style=\"color: #7fbfbf; text-decoration-color: #7fbfbf\">           </span><span style=\"color: #000080; text-decoration-color: #000080\">INFO    </span> Extracting tiles from 3 slides (tile_px=299, tile_um=302)                                      \n",
       "</pre>\n"
      ],
      "text/plain": [
       "\u001b[2;36m          \u001b[0m\u001b[2;36m \u001b[0m\u001b[34mINFO    \u001b[0m Extracting tiles from 3 slides (tile_px=299, tile_um=302)                                      \n"
      ]
     },
     "metadata": {},
     "output_type": "display_data"
    },
    {
     "data": {
      "text/html": [
       "<pre style=\"white-space:pre;overflow-x:auto;line-height:normal;font-family:Menlo,'DejaVu Sans Mono',consolas,'Courier New',monospace\"><span style=\"color: #7fbfbf; text-decoration-color: #7fbfbf\">           </span><span style=\"color: #000080; text-decoration-color: #000080\">INFO    </span> Using 4 processes (pool=spawn)                                                                 \n",
       "</pre>\n"
      ],
      "text/plain": [
       "\u001b[2;36m          \u001b[0m\u001b[2;36m \u001b[0m\u001b[34mINFO    \u001b[0m Using 4 processes (pool=spawn)                                                                 \n"
      ]
     },
     "metadata": {},
     "output_type": "display_data"
    },
    {
     "data": {
      "application/vnd.jupyter.widget-view+json": {
       "model_id": "600f91475b554bdf9987391c46330861",
       "version_major": 2,
       "version_minor": 0
      },
      "text/plain": [
       "Output()"
      ]
     },
     "metadata": {},
     "output_type": "display_data"
    },
    {
     "data": {
      "text/html": [
       "<pre style=\"white-space:pre;overflow-x:auto;line-height:normal;font-family:Menlo,'DejaVu Sans Mono',consolas,'Courier New',monospace\"><span style=\"color: #7fbfbf; text-decoration-color: #7fbfbf\">           </span><span style=\"color: #800000; text-decoration-color: #800000; font-weight: bold\">ERROR   </span> <span style=\"color: #800000; text-decoration-color: #800000\">Error loading slide ./tiff_images/original_37-HE.tiff: Could not detect microns-per-pixel for </span> \n",
       "<span style=\"color: #7fbfbf; text-decoration-color: #7fbfbf\">           </span>         <span style=\"color: #800000; text-decoration-color: #800000\">slide: ./tiff_images/original_37-HE.tiff. Skipping</span>                                             \n",
       "</pre>\n"
      ],
      "text/plain": [
       "\u001b[2;36m          \u001b[0m\u001b[2;36m \u001b[0m\u001b[1;31mERROR   \u001b[0m \u001b[31mError loading slide ./tiff_images/original_37-HE.tiff: Could not detect microns-per-pixel for \u001b[0m \n",
       "\u001b[2;36m           \u001b[0m         \u001b[31mslide: ./tiff_images/original_37-HE.tiff. Skipping\u001b[0m                                             \n"
      ]
     },
     "metadata": {},
     "output_type": "display_data"
    },
    {
     "data": {
      "text/html": [
       "<pre style=\"white-space:pre;overflow-x:auto;line-height:normal;font-family:Menlo,'DejaVu Sans Mono',consolas,'Courier New',monospace\"><span style=\"color: #7fbfbf; text-decoration-color: #7fbfbf\">           </span><span style=\"color: #800000; text-decoration-color: #800000; font-weight: bold\">ERROR   </span> <span style=\"color: #800000; text-decoration-color: #800000\">Error loading slide ./tiff_images/original_6-ki67_fixed.tiff: Could not detect </span>                \n",
       "<span style=\"color: #7fbfbf; text-decoration-color: #7fbfbf\">           </span>         <span style=\"color: #800000; text-decoration-color: #800000\">microns-per-pixel for slide: ./tiff_images/original_6-ki67_fixed.tiff. Skipping</span>                \n",
       "</pre>\n"
      ],
      "text/plain": [
       "\u001b[2;36m          \u001b[0m\u001b[2;36m \u001b[0m\u001b[1;31mERROR   \u001b[0m \u001b[31mError loading slide ./tiff_images/original_6-ki67_fixed.tiff: Could not detect \u001b[0m                \n",
       "\u001b[2;36m           \u001b[0m         \u001b[31mmicrons-per-pixel for slide: ./tiff_images/original_6-ki67_fixed.tiff. Skipping\u001b[0m                \n"
      ]
     },
     "metadata": {},
     "output_type": "display_data"
    },
    {
     "data": {
      "text/html": [
       "<pre style=\"white-space:pre;overflow-x:auto;line-height:normal;font-family:Menlo,'DejaVu Sans Mono',consolas,'Courier New',monospace\"><span style=\"color: #7fbfbf; text-decoration-color: #7fbfbf\">[11:01:22] </span><span style=\"color: #800000; text-decoration-color: #800000; font-weight: bold\">ERROR   </span> <span style=\"color: #800000; text-decoration-color: #800000\">Error loading slide ./tiff_images/original_6-ki67.tiff: Could not detect microns-per-pixel for </span>\n",
       "<span style=\"color: #7fbfbf; text-decoration-color: #7fbfbf\">           </span>         <span style=\"color: #800000; text-decoration-color: #800000\">slide: ./tiff_images/original_6-ki67.tiff. Skipping</span>                                            \n",
       "</pre>\n"
      ],
      "text/plain": [
       "\u001b[2;36m[11:01:22]\u001b[0m\u001b[2;36m \u001b[0m\u001b[1;31mERROR   \u001b[0m \u001b[31mError loading slide ./tiff_images/original_6-ki67.tiff: Could not detect microns-per-pixel for \u001b[0m\n",
       "\u001b[2;36m           \u001b[0m         \u001b[31mslide: ./tiff_images/original_6-ki67.tiff. Skipping\u001b[0m                                            \n"
      ]
     },
     "metadata": {},
     "output_type": "display_data"
    },
    {
     "data": {
      "text/html": [
       "<pre style=\"white-space:pre;overflow-x:auto;line-height:normal;font-family:Menlo,'DejaVu Sans Mono',consolas,'Courier New',monospace\"></pre>\n"
      ],
      "text/plain": []
     },
     "metadata": {},
     "output_type": "display_data"
    },
    {
     "data": {
      "text/html": [
       "<pre style=\"white-space:pre;overflow-x:auto;line-height:normal;font-family:Menlo,'DejaVu Sans Mono',consolas,'Courier New',monospace\"><span style=\"color: #7fbfbf; text-decoration-color: #7fbfbf\">           </span><span style=\"color: #000080; text-decoration-color: #000080\">INFO    </span> Generating PDF (this may take some time)...                                                    \n",
       "</pre>\n"
      ],
      "text/plain": [
       "\u001b[2;36m          \u001b[0m\u001b[2;36m \u001b[0m\u001b[34mINFO    \u001b[0m Generating PDF (this may take some time)...                                                    \n"
      ]
     },
     "metadata": {},
     "output_type": "display_data"
    },
    {
     "data": {
      "application/vnd.jupyter.widget-view+json": {
       "model_id": "",
       "version_major": 2,
       "version_minor": 0
      },
      "text/plain": [
       "Output()"
      ]
     },
     "metadata": {},
     "output_type": "display_data"
    },
    {
     "name": "stdout",
     "output_type": "stream",
     "text": [
      "Skipping CSV update; no extraction reports found.\n"
     ]
    },
    {
     "data": {
      "text/html": [
       "<pre style=\"white-space:pre;overflow-x:auto;line-height:normal;font-family:Menlo,'DejaVu Sans Mono',consolas,'Courier New',monospace\"></pre>\n"
      ],
      "text/plain": []
     },
     "metadata": {},
     "output_type": "display_data"
    },
    {
     "data": {
      "application/vnd.jupyter.widget-view+json": {
       "model_id": "",
       "version_major": 2,
       "version_minor": 0
      },
      "text/plain": [
       "Output()"
      ]
     },
     "metadata": {},
     "output_type": "display_data"
    },
    {
     "data": {
      "text/html": [
       "<pre style=\"white-space:pre;overflow-x:auto;line-height:normal;font-family:Menlo,'DejaVu Sans Mono',consolas,'Courier New',monospace\"></pre>\n"
      ],
      "text/plain": []
     },
     "metadata": {},
     "output_type": "display_data"
    },
    {
     "data": {
      "text/plain": [
       "{}"
      ]
     },
     "execution_count": 10,
     "metadata": {},
     "output_type": "execute_result"
    }
   ],
   "source": [
    "project = sf.create_project(root='data4', slides='./tiff_images/')\n",
    "project.extract_tiles(tile_px=299, tile_um=302)\n"
   ]
  },
  {
   "cell_type": "code",
   "execution_count": 2,
   "id": "752ab174-7edb-484d-a68b-9e262c5773e9",
   "metadata": {
    "execution": {
     "iopub.execute_input": "2025-01-15T07:11:55.948485Z",
     "iopub.status.busy": "2025-01-15T07:11:55.947991Z",
     "iopub.status.idle": "2025-01-15T07:12:12.429559Z",
     "shell.execute_reply": "2025-01-15T07:12:12.428018Z",
     "shell.execute_reply.started": "2025-01-15T07:11:55.948452Z"
    },
    "tags": []
   },
   "outputs": [
    {
     "ename": "ContextualVersionConflict",
     "evalue": "(triton 3.1.0 (/usr/gatoai/python/venv/3.8/lib/python3.8/site-packages), Requirement.parse('triton==2.2.0; platform_system == \"Linux\" and platform_machine == \"x86_64\" and python_version < \"3.12\"'), {'torch'})",
     "output_type": "error",
     "traceback": [
      "\u001b[0;31m---------------------------------------------------------------------------\u001b[0m",
      "\u001b[0;31mContextualVersionConflict\u001b[0m                 Traceback (most recent call last)",
      "Cell \u001b[0;32mIn[2], line 1\u001b[0m\n\u001b[0;32m----> 1\u001b[0m \u001b[38;5;28;01mimport\u001b[39;00m \u001b[38;5;21;01mslideflow\u001b[39;00m \u001b[38;5;28;01mas\u001b[39;00m \u001b[38;5;21;01msf\u001b[39;00m\n\u001b[1;32m      2\u001b[0m ctranspath \u001b[38;5;241m=\u001b[39m sf\u001b[38;5;241m.\u001b[39mbuild_feature_extractor(\u001b[38;5;124m'\u001b[39m\u001b[38;5;124mctranspath\u001b[39m\u001b[38;5;124m'\u001b[39m)\n",
      "File \u001b[0;32m~/.local/lib/python3.8/site-packages/slideflow/__init__.py:43\u001b[0m\n\u001b[1;32m     41\u001b[0m \u001b[38;5;28;01mfrom\u001b[39;00m \u001b[38;5;21;01mslideflow\u001b[39;00m\u001b[38;5;21;01m.\u001b[39;00m\u001b[38;5;21;01mstats\u001b[39;00m \u001b[38;5;28;01mimport\u001b[39;00m SlideMap\n\u001b[1;32m     42\u001b[0m \u001b[38;5;28;01mfrom\u001b[39;00m \u001b[38;5;21;01mslideflow\u001b[39;00m\u001b[38;5;21;01m.\u001b[39;00m\u001b[38;5;21;01mtfrecord\u001b[39;00m \u001b[38;5;28;01mimport\u001b[39;00m TFRecord, tfrecord_loader, multi_tfrecord_loader\n\u001b[0;32m---> 43\u001b[0m \u001b[38;5;28;01mfrom\u001b[39;00m \u001b[38;5;21;01mslideflow\u001b[39;00m\u001b[38;5;21;01m.\u001b[39;00m\u001b[38;5;21;01mplugin\u001b[39;00m \u001b[38;5;28;01mimport\u001b[39;00m load_plugins\n",
      "File \u001b[0;32m~/.local/lib/python3.8/site-packages/slideflow/plugin.py:12\u001b[0m\n\u001b[1;32m      9\u001b[0m         register \u001b[38;5;241m=\u001b[39m entry_point\u001b[38;5;241m.\u001b[39mload()\n\u001b[1;32m     10\u001b[0m         register()\n\u001b[0;32m---> 12\u001b[0m \u001b[43mload_plugins\u001b[49m\u001b[43m(\u001b[49m\u001b[43m)\u001b[49m\n",
      "File \u001b[0;32m~/.local/lib/python3.8/site-packages/slideflow/plugin.py:9\u001b[0m, in \u001b[0;36mload_plugins\u001b[0;34m()\u001b[0m\n\u001b[1;32m      7\u001b[0m \u001b[38;5;28;01mdef\u001b[39;00m \u001b[38;5;21mload_plugins\u001b[39m():\n\u001b[1;32m      8\u001b[0m     \u001b[38;5;28;01mfor\u001b[39;00m entry_point \u001b[38;5;129;01min\u001b[39;00m pkg_resources\u001b[38;5;241m.\u001b[39miter_entry_points(\u001b[38;5;124m'\u001b[39m\u001b[38;5;124mslideflow.plugins\u001b[39m\u001b[38;5;124m'\u001b[39m):\n\u001b[0;32m----> 9\u001b[0m         register \u001b[38;5;241m=\u001b[39m \u001b[43mentry_point\u001b[49m\u001b[38;5;241;43m.\u001b[39;49m\u001b[43mload\u001b[49m\u001b[43m(\u001b[49m\u001b[43m)\u001b[49m\n\u001b[1;32m     10\u001b[0m         register()\n",
      "File \u001b[0;32m/opt/python/lib/python3.8/site-packages/pkg_resources/__init__.py:2780\u001b[0m, in \u001b[0;36mEntryPoint.load\u001b[0;34m(self, require, *args, **kwargs)\u001b[0m\n\u001b[1;32m   2771\u001b[0m     warnings\u001b[38;5;241m.\u001b[39mwarn(\n\u001b[1;32m   2772\u001b[0m         \u001b[38;5;124m\"\u001b[39m\u001b[38;5;124mParameters to load are deprecated.  Call .resolve and \u001b[39m\u001b[38;5;124m\"\u001b[39m\n\u001b[1;32m   2773\u001b[0m         \u001b[38;5;124m\"\u001b[39m\u001b[38;5;124m.require separately.\u001b[39m\u001b[38;5;124m\"\u001b[39m,\n\u001b[1;32m   2774\u001b[0m         PkgResourcesDeprecationWarning,\n\u001b[1;32m   2775\u001b[0m         stacklevel\u001b[38;5;241m=\u001b[39m\u001b[38;5;241m2\u001b[39m,\n\u001b[1;32m   2776\u001b[0m     )\n\u001b[1;32m   2777\u001b[0m \u001b[38;5;28;01mif\u001b[39;00m require:\n\u001b[1;32m   2778\u001b[0m     \u001b[38;5;66;03m# We could pass `env` and `installer` directly,\u001b[39;00m\n\u001b[1;32m   2779\u001b[0m     \u001b[38;5;66;03m# but keeping `*args` and `**kwargs` for backwards compatibility\u001b[39;00m\n\u001b[0;32m-> 2780\u001b[0m     \u001b[38;5;28;43mself\u001b[39;49m\u001b[38;5;241;43m.\u001b[39;49m\u001b[43mrequire\u001b[49m\u001b[43m(\u001b[49m\u001b[38;5;241;43m*\u001b[39;49m\u001b[43margs\u001b[49m\u001b[43m,\u001b[49m\u001b[43m \u001b[49m\u001b[38;5;241;43m*\u001b[39;49m\u001b[38;5;241;43m*\u001b[39;49m\u001b[43mkwargs\u001b[49m\u001b[43m)\u001b[49m  \u001b[38;5;66;03m# type: ignore\u001b[39;00m\n\u001b[1;32m   2781\u001b[0m \u001b[38;5;28;01mreturn\u001b[39;00m \u001b[38;5;28mself\u001b[39m\u001b[38;5;241m.\u001b[39mresolve()\n",
      "File \u001b[0;32m/opt/python/lib/python3.8/site-packages/pkg_resources/__init__.py:2808\u001b[0m, in \u001b[0;36mEntryPoint.require\u001b[0;34m(self, env, installer)\u001b[0m\n\u001b[1;32m   2802\u001b[0m \u001b[38;5;66;03m# Get the requirements for this entry point with all its extras and\u001b[39;00m\n\u001b[1;32m   2803\u001b[0m \u001b[38;5;66;03m# then resolve them. We have to pass `extras` along when resolving so\u001b[39;00m\n\u001b[1;32m   2804\u001b[0m \u001b[38;5;66;03m# that the working set knows what extras we want. Otherwise, for\u001b[39;00m\n\u001b[1;32m   2805\u001b[0m \u001b[38;5;66;03m# dist-info distributions, the working set will assume that the\u001b[39;00m\n\u001b[1;32m   2806\u001b[0m \u001b[38;5;66;03m# requirements for that extra are purely optional and skip over them.\u001b[39;00m\n\u001b[1;32m   2807\u001b[0m reqs \u001b[38;5;241m=\u001b[39m \u001b[38;5;28mself\u001b[39m\u001b[38;5;241m.\u001b[39mdist\u001b[38;5;241m.\u001b[39mrequires(\u001b[38;5;28mself\u001b[39m\u001b[38;5;241m.\u001b[39mextras)\n\u001b[0;32m-> 2808\u001b[0m items \u001b[38;5;241m=\u001b[39m \u001b[43mworking_set\u001b[49m\u001b[38;5;241;43m.\u001b[39;49m\u001b[43mresolve\u001b[49m\u001b[43m(\u001b[49m\u001b[43mreqs\u001b[49m\u001b[43m,\u001b[49m\u001b[43m \u001b[49m\u001b[43menv\u001b[49m\u001b[43m,\u001b[49m\u001b[43m \u001b[49m\u001b[43minstaller\u001b[49m\u001b[43m,\u001b[49m\u001b[43m \u001b[49m\u001b[43mextras\u001b[49m\u001b[38;5;241;43m=\u001b[39;49m\u001b[38;5;28;43mself\u001b[39;49m\u001b[38;5;241;43m.\u001b[39;49m\u001b[43mextras\u001b[49m\u001b[43m)\u001b[49m\n\u001b[1;32m   2809\u001b[0m \u001b[38;5;28mlist\u001b[39m(\u001b[38;5;28mmap\u001b[39m(working_set\u001b[38;5;241m.\u001b[39madd, items))\n",
      "File \u001b[0;32m/opt/python/lib/python3.8/site-packages/pkg_resources/__init__.py:897\u001b[0m, in \u001b[0;36mWorkingSet.resolve\u001b[0;34m(self, requirements, env, installer, replace_conflicting, extras)\u001b[0m\n\u001b[1;32m    894\u001b[0m \u001b[38;5;28;01mif\u001b[39;00m \u001b[38;5;129;01mnot\u001b[39;00m req_extras\u001b[38;5;241m.\u001b[39mmarkers_pass(req, extras):\n\u001b[1;32m    895\u001b[0m     \u001b[38;5;28;01mcontinue\u001b[39;00m\n\u001b[0;32m--> 897\u001b[0m dist \u001b[38;5;241m=\u001b[39m \u001b[38;5;28;43mself\u001b[39;49m\u001b[38;5;241;43m.\u001b[39;49m\u001b[43m_resolve_dist\u001b[49m\u001b[43m(\u001b[49m\n\u001b[1;32m    898\u001b[0m \u001b[43m    \u001b[49m\u001b[43mreq\u001b[49m\u001b[43m,\u001b[49m\u001b[43m \u001b[49m\u001b[43mbest\u001b[49m\u001b[43m,\u001b[49m\u001b[43m \u001b[49m\u001b[43mreplace_conflicting\u001b[49m\u001b[43m,\u001b[49m\u001b[43m \u001b[49m\u001b[43menv\u001b[49m\u001b[43m,\u001b[49m\u001b[43m \u001b[49m\u001b[43minstaller\u001b[49m\u001b[43m,\u001b[49m\u001b[43m \u001b[49m\u001b[43mrequired_by\u001b[49m\u001b[43m,\u001b[49m\u001b[43m \u001b[49m\u001b[43mto_activate\u001b[49m\n\u001b[1;32m    899\u001b[0m \u001b[43m\u001b[49m\u001b[43m)\u001b[49m\n\u001b[1;32m    901\u001b[0m \u001b[38;5;66;03m# push the new requirements onto the stack\u001b[39;00m\n\u001b[1;32m    902\u001b[0m new_requirements \u001b[38;5;241m=\u001b[39m dist\u001b[38;5;241m.\u001b[39mrequires(req\u001b[38;5;241m.\u001b[39mextras)[::\u001b[38;5;241m-\u001b[39m\u001b[38;5;241m1\u001b[39m]\n",
      "File \u001b[0;32m/opt/python/lib/python3.8/site-packages/pkg_resources/__init__.py:943\u001b[0m, in \u001b[0;36mWorkingSet._resolve_dist\u001b[0;34m(self, req, best, replace_conflicting, env, installer, required_by, to_activate)\u001b[0m\n\u001b[1;32m    940\u001b[0m \u001b[38;5;28;01mif\u001b[39;00m dist \u001b[38;5;129;01mnot\u001b[39;00m \u001b[38;5;129;01min\u001b[39;00m req:\n\u001b[1;32m    941\u001b[0m     \u001b[38;5;66;03m# Oops, the \"best\" so far conflicts with a dependency\u001b[39;00m\n\u001b[1;32m    942\u001b[0m     dependent_req \u001b[38;5;241m=\u001b[39m required_by[req]\n\u001b[0;32m--> 943\u001b[0m     \u001b[38;5;28;01mraise\u001b[39;00m VersionConflict(dist, req)\u001b[38;5;241m.\u001b[39mwith_context(dependent_req)\n\u001b[1;32m    944\u001b[0m \u001b[38;5;28;01mreturn\u001b[39;00m dist\n",
      "\u001b[0;31mContextualVersionConflict\u001b[0m: (triton 3.1.0 (/usr/gatoai/python/venv/3.8/lib/python3.8/site-packages), Requirement.parse('triton==2.2.0; platform_system == \"Linux\" and platform_machine == \"x86_64\" and python_version < \"3.12\"'), {'torch'})"
     ]
    }
   ],
   "source": []
  },
  {
   "cell_type": "code",
   "execution_count": null,
   "id": "d1c79931-72f6-40cd-a05a-6f8f82c76fb3",
   "metadata": {},
   "outputs": [],
   "source": []
  }
 ],
 "metadata": {
  "kernelspec": {
   "display_name": "Python 3.8",
   "language": "python",
   "name": "python3"
  },
  "language_info": {
   "codemirror_mode": {
    "name": "ipython",
    "version": 3
   },
   "file_extension": ".py",
   "mimetype": "text/x-python",
   "name": "python",
   "nbconvert_exporter": "python",
   "pygments_lexer": "ipython3",
   "version": "3.8.16"
  }
 },
 "nbformat": 4,
 "nbformat_minor": 5
}
